{
 "cells": [
  {
   "cell_type": "code",
   "execution_count": null,
   "id": "fe7682c7",
   "metadata": {},
   "outputs": [],
   "source": [
    "\"\"\"\n",
    "Link del public tableau:\n",
    "\n",
    "https://public.tableau.com/app/profile/halima8505/viz/IntroBITableau_16629889977250/IntroBITableau\"\"\"\n"
   ]
  }
 ],
 "metadata": {
  "kernelspec": {
   "display_name": "Python [conda env:m1_ih]",
   "language": "python",
   "name": "conda-env-m1_ih-py"
  },
  "language_info": {
   "codemirror_mode": {
    "name": "ipython",
    "version": 3
   },
   "file_extension": ".py",
   "mimetype": "text/x-python",
   "name": "python",
   "nbconvert_exporter": "python",
   "pygments_lexer": "ipython3",
   "version": "3.9.12"
  }
 },
 "nbformat": 4,
 "nbformat_minor": 5
}
