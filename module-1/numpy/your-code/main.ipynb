{
 "cells": [
  {
   "cell_type": "markdown",
   "metadata": {},
   "source": [
    "# Introduction to NumPy\n",
    "\n",
    "\n",
    "#### 1. Import NumPy under the name np."
   ]
  },
  {
   "cell_type": "code",
   "execution_count": 303,
   "metadata": {},
   "outputs": [],
   "source": [
    "# your code here\n",
    "import numpy as np"
   ]
  },
  {
   "cell_type": "markdown",
   "metadata": {},
   "source": [
    "#### 2. Print your NumPy version."
   ]
  },
  {
   "cell_type": "code",
   "execution_count": 304,
   "metadata": {},
   "outputs": [
    {
     "name": "stdout",
     "output_type": "stream",
     "text": [
      "1.22.3\n"
     ]
    }
   ],
   "source": [
    "# your code here\n",
    "print(np.__version__)"
   ]
  },
  {
   "cell_type": "markdown",
   "metadata": {},
   "source": [
    "#### 3. Generate a 2x3x5 3-dimensional array with random values. Assign the array to variable *a*.\n",
    "**Challenge**: there are at least three easy ways that use numpy to generate random arrays. How many ways can you find?"
   ]
  },
  {
   "cell_type": "code",
   "execution_count": 305,
   "metadata": {},
   "outputs": [
    {
     "data": {
      "text/plain": [
       "array([[[0.22850655, 0.58223849, 0.94021465, 0.15315298, 0.95240698],\n",
       "        [0.19719548, 0.37682704, 0.95481038, 0.81856602, 0.43465752],\n",
       "        [0.14990337, 0.60132665, 0.8626925 , 0.71662244, 0.06519321]],\n",
       "\n",
       "       [[0.65836976, 0.6421217 , 0.49484473, 0.08245081, 0.63200814],\n",
       "        [0.55603816, 0.17370424, 0.19858061, 0.42062356, 0.70144894],\n",
       "        [0.34592944, 0.38338166, 0.79087038, 0.1143608 , 0.87796639]]])"
      ]
     },
     "execution_count": 305,
     "metadata": {},
     "output_type": "execute_result"
    }
   ],
   "source": [
    "# Method 1\n",
    "np.random.rand(2,3,5)"
   ]
  },
  {
   "cell_type": "code",
   "execution_count": 306,
   "metadata": {},
   "outputs": [
    {
     "data": {
      "text/plain": [
       "array([[[0, 0, 4, 2, 2],\n",
       "        [0, 3, 0, 0, 5],\n",
       "        [4, 4, 2, 2, 0]],\n",
       "\n",
       "       [[3, 1, 3, 4, 4],\n",
       "        [5, 4, 5, 0, 3],\n",
       "        [0, 4, 3, 1, 0]]])"
      ]
     },
     "execution_count": 306,
     "metadata": {},
     "output_type": "execute_result"
    }
   ],
   "source": [
    "# Method 2\n",
    "np.random.randint(6, size=(2, 3, 5))"
   ]
  },
  {
   "cell_type": "code",
   "execution_count": 307,
   "metadata": {},
   "outputs": [
    {
     "data": {
      "text/plain": [
       "array([[[0.78287377, 0.33863388, 0.11082761, 0.11561001, 0.68733839],\n",
       "        [0.52061195, 0.28749284, 0.04013829, 0.55611471, 0.56248396],\n",
       "        [0.79594177, 0.57996988, 0.14756982, 0.44692831, 0.71725848]],\n",
       "\n",
       "       [[0.24595107, 0.19430949, 0.86525623, 0.38978867, 0.74773941],\n",
       "        [0.17405108, 0.4652078 , 0.98487477, 0.82297298, 0.61843855],\n",
       "        [0.24657769, 0.62217102, 0.57345115, 0.11544295, 0.44509159]]])"
      ]
     },
     "execution_count": 307,
     "metadata": {},
     "output_type": "execute_result"
    }
   ],
   "source": [
    "# Method 3\n",
    "np.random.random_sample((2, 3, 5))"
   ]
  },
  {
   "cell_type": "markdown",
   "metadata": {},
   "source": [
    "#### 4. Print *a*.\n"
   ]
  },
  {
   "cell_type": "code",
   "execution_count": 308,
   "metadata": {},
   "outputs": [
    {
     "name": "stdout",
     "output_type": "stream",
     "text": [
      "[[[21 17 38 23 49]\n",
      "  [27 39 19 27 28]\n",
      "  [37 31 56 42 40]]\n",
      "\n",
      " [[36 39 16 56 37]\n",
      "  [38 17 48 42 22]\n",
      "  [40 16 22 49 11]]]\n"
     ]
    }
   ],
   "source": [
    "# your code here\n",
    "a = np.random.randint(60, size=(2, 3, 5))\n",
    "print(a)"
   ]
  },
  {
   "cell_type": "markdown",
   "metadata": {},
   "source": [
    "#### 5. Create a 5x2x3 3-dimensional array with all values equaling 1. Assign the array to variable *b*."
   ]
  },
  {
   "cell_type": "code",
   "execution_count": 140,
   "metadata": {},
   "outputs": [],
   "source": [
    "# your code here\n",
    "b = np.random.randint(1, size=(5, 2, 3))\n",
    "b.fill(1)"
   ]
  },
  {
   "cell_type": "markdown",
   "metadata": {},
   "source": [
    "#### 6. Print *b*.\n"
   ]
  },
  {
   "cell_type": "code",
   "execution_count": 309,
   "metadata": {},
   "outputs": [
    {
     "data": {
      "text/plain": [
       "array([[[1, 1, 1],\n",
       "        [1, 1, 1]],\n",
       "\n",
       "       [[1, 1, 1],\n",
       "        [1, 1, 1]],\n",
       "\n",
       "       [[1, 1, 1],\n",
       "        [1, 1, 1]],\n",
       "\n",
       "       [[1, 1, 1],\n",
       "        [1, 1, 1]],\n",
       "\n",
       "       [[1, 1, 1],\n",
       "        [1, 1, 1]]])"
      ]
     },
     "execution_count": 309,
     "metadata": {},
     "output_type": "execute_result"
    }
   ],
   "source": [
    "# your code here\n",
    "b"
   ]
  },
  {
   "cell_type": "markdown",
   "metadata": {},
   "source": [
    "#### 7. Do *a* and *b* have the same size? How do you prove that in Python code?"
   ]
  },
  {
   "cell_type": "code",
   "execution_count": 310,
   "metadata": {},
   "outputs": [
    {
     "name": "stdout",
     "output_type": "stream",
     "text": [
      " size of a: 30\n",
      " size of b: 30\n"
     ]
    }
   ],
   "source": [
    "# your code here\n",
    "# Yes a and b have the same size:\n",
    "print(\" size of a:\", b.size)\n",
    "print(\" size of b:\", a.size)"
   ]
  },
  {
   "cell_type": "markdown",
   "metadata": {},
   "source": [
    "#### 8. Are you able to add *a* and *b*? Why or why not?\n"
   ]
  },
  {
   "cell_type": "code",
   "execution_count": 311,
   "metadata": {},
   "outputs": [
    {
     "name": "stdout",
     "output_type": "stream",
     "text": [
      "(5, 2, 3)\n",
      "(2, 3, 5)\n"
     ]
    }
   ],
   "source": [
    "# your answer here\n",
    "#No, because they don't have the same shape\n",
    "\n",
    "print(b.shape)\n",
    "print(a.shape)\n"
   ]
  },
  {
   "cell_type": "markdown",
   "metadata": {},
   "source": [
    "#### 9. Transpose *b* so that it has the same structure of *a* (i.e. become a 2x3x5 array). Assign the transposed array to variable *c*."
   ]
  },
  {
   "cell_type": "code",
   "execution_count": 312,
   "metadata": {},
   "outputs": [
    {
     "name": "stdout",
     "output_type": "stream",
     "text": [
      "[[[1 1 1 1 1]\n",
      "  [1 1 1 1 1]\n",
      "  [1 1 1 1 1]]\n",
      "\n",
      " [[1 1 1 1 1]\n",
      "  [1 1 1 1 1]\n",
      "  [1 1 1 1 1]]]\n"
     ]
    }
   ],
   "source": [
    "# your code here\n",
    "c = b.transpose()\n",
    "c = c.reshape(2, 3, 5)\n",
    "print(c)"
   ]
  },
  {
   "cell_type": "markdown",
   "metadata": {},
   "source": [
    "#### 10. Try to add *a* and *c*. Now it should work. Assign the sum to variable *d*. But why does it work now?"
   ]
  },
  {
   "cell_type": "code",
   "execution_count": 373,
   "metadata": {},
   "outputs": [
    {
     "data": {
      "text/plain": [
       "array([[[22, 18, 39, 24, 50],\n",
       "        [28, 40, 20, 28, 29],\n",
       "        [38, 32, 57, 43, 41]],\n",
       "\n",
       "       [[37, 40, 17, 57, 38],\n",
       "        [39, 18, 49, 43, 23],\n",
       "        [41, 17, 23, 50, 12]]])"
      ]
     },
     "execution_count": 373,
     "metadata": {},
     "output_type": "execute_result"
    }
   ],
   "source": [
    "# your code/answer here\n",
    "# we had to use reshape to have the same shape...\n",
    "d = np.add(a, c)\n",
    "d"
   ]
  },
  {
   "cell_type": "markdown",
   "metadata": {},
   "source": [
    "#### 11. Print *a* and *d*. Notice the difference and relation of the two array in terms of the values? Explain."
   ]
  },
  {
   "cell_type": "code",
   "execution_count": 374,
   "metadata": {},
   "outputs": [
    {
     "name": "stdout",
     "output_type": "stream",
     "text": [
      "matrix a: [[[21 17 38 23 49]\n",
      "  [27 39 19 27 28]\n",
      "  [37 31 56 42 40]]\n",
      "\n",
      " [[36 39 16 56 37]\n",
      "  [38 17 48 42 22]\n",
      "  [40 16 22 49 11]]]\n",
      "------------------------------------\n",
      "matrix d: [[[22 18 39 24 50]\n",
      "  [28 40 20 28 29]\n",
      "  [38 32 57 43 41]]\n",
      "\n",
      " [[37 40 17 57 38]\n",
      "  [39 18 49 43 23]\n",
      "  [41 17 23 50 12]]]\n"
     ]
    }
   ],
   "source": [
    "# your code/answer here\n",
    "print(\"matrix a:\", a)\n",
    "print(\"------------------------------------\")\n",
    "print(\"matrix d:\", d)"
   ]
  },
  {
   "cell_type": "markdown",
   "metadata": {},
   "source": [
    "#### 12. Multiply *a* and *c*. Assign the result to *e*."
   ]
  },
  {
   "cell_type": "code",
   "execution_count": 315,
   "metadata": {},
   "outputs": [
    {
     "data": {
      "text/plain": [
       "array([[[21, 17, 38, 23, 49],\n",
       "        [27, 39, 19, 27, 28],\n",
       "        [37, 31, 56, 42, 40]],\n",
       "\n",
       "       [[36, 39, 16, 56, 37],\n",
       "        [38, 17, 48, 42, 22],\n",
       "        [40, 16, 22, 49, 11]]])"
      ]
     },
     "execution_count": 315,
     "metadata": {},
     "output_type": "execute_result"
    }
   ],
   "source": [
    "# your code here\n",
    "e = np.multiply(a, c)\n",
    "e"
   ]
  },
  {
   "cell_type": "markdown",
   "metadata": {},
   "source": [
    "#### 13. Does *e* equal to *a*? Why or why not?\n"
   ]
  },
  {
   "cell_type": "code",
   "execution_count": 316,
   "metadata": {},
   "outputs": [
    {
     "name": "stdout",
     "output_type": "stream",
     "text": [
      "[[[21 17 38 23 49]\n",
      "  [27 39 19 27 28]\n",
      "  [37 31 56 42 40]]\n",
      "\n",
      " [[36 39 16 56 37]\n",
      "  [38 17 48 42 22]\n",
      "  [40 16 22 49 11]]]\n",
      "----------------------------\n",
      "[[[21 17 38 23 49]\n",
      "  [27 39 19 27 28]\n",
      "  [37 31 56 42 40]]\n",
      "\n",
      " [[36 39 16 56 37]\n",
      "  [38 17 48 42 22]\n",
      "  [40 16 22 49 11]]]\n"
     ]
    }
   ],
   "source": [
    "# your code/answer here\n",
    "# yes they are equal because we are multiplying by 1 every element, so it should be the same result\n",
    "print(a)\n",
    "print(\"----------------------------\")\n",
    "print(e)\n"
   ]
  },
  {
   "cell_type": "markdown",
   "metadata": {},
   "source": [
    "#### 14. Identify the max, min, and mean values in *d*. Assign those values to variables *d_max*, *d_min* and *d_mean*."
   ]
  },
  {
   "cell_type": "code",
   "execution_count": 375,
   "metadata": {},
   "outputs": [
    {
     "name": "stdout",
     "output_type": "stream",
     "text": [
      "maximum of d 57\n",
      "minimum of d 12\n",
      "mean of d 33.77\n"
     ]
    }
   ],
   "source": [
    "# your code here\n",
    "d_max = np.max(d)\n",
    "print(\"maximum of d\", d_max)\n",
    "d_min = np.min(d)\n",
    "print(\"minimum of d\", d_min)\n",
    "d_mean = np.mean(d)\n",
    "print(\"mean of d\", d_mean.round(2))\n"
   ]
  },
  {
   "cell_type": "markdown",
   "metadata": {},
   "source": [
    "#### 15. Now we want to label the values in *d*. First create an empty array *f* with the same shape (i.e. 2x3x5) as *d* using `np.empty`.\n"
   ]
  },
  {
   "cell_type": "code",
   "execution_count": 417,
   "metadata": {},
   "outputs": [
    {
     "data": {
      "text/plain": [
       "array([[['', '', '', '', ''],\n",
       "        ['', '', '', '', ''],\n",
       "        ['', '', '', '', '']],\n",
       "\n",
       "       [['', '', '', '', ''],\n",
       "        ['', '', '', '', ''],\n",
       "        ['', '', '', '', '']]], dtype='<U1')"
      ]
     },
     "execution_count": 417,
     "metadata": {},
     "output_type": "execute_result"
    }
   ],
   "source": [
    "# your code here\n",
    "f = np.empty([2,3,5], dtype=str)\n",
    "f.shape\n",
    "f"
   ]
  },
  {
   "cell_type": "markdown",
   "metadata": {},
   "source": [
    "#### 16. Populate the values in *f*. \n",
    "\n",
    "For each value in *d*, if it's larger than *d_min* but smaller than *d_mean*, assign 25 to the corresponding value in *f*. If a value in *d* is larger than *d_mean* but smaller than *d_max*, assign 75 to the corresponding value in *f*. If a value equals to *d_mean*, assign 50 to the corresponding value in *f*. Assign 0 to the corresponding value(s) in *f* for *d_min* in *d*. Assign 100 to the corresponding value(s) in *f* for *d_max* in *d*. In the end, f should have only the following values: 0, 25, 50, 75, and 100.\n",
    "\n",
    "**Note**: you don't have to use Numpy in this question."
   ]
  },
  {
   "cell_type": "code",
   "execution_count": 413,
   "metadata": {},
   "outputs": [],
   "source": [
    "# your code here\n",
    "for x in range(d.shape[0]):\n",
    "    for y in range(d.shape[1]):\n",
    "        for z in range(d.shape[2]):\n",
    "            if d[x, y, z] > d_min and d[x, y, z] < d_mean:\n",
    "                f[x, y, z] = 25\n",
    "            if d[x, y, z] > d_mean and d[x, y, z] < d_max:\n",
    "                f[x, y, z] = 75 \n",
    "            if d[x, y, z] == d_mean:\n",
    "                f[x, y, z] = 50\n",
    "            if d[x, y, z] == d_min:\n",
    "                f[x, y, z] = 0\n",
    "            if d[x, y, z] == d_max:\n",
    "                f[x, y, z] = 100"
   ]
  },
  {
   "cell_type": "code",
   "execution_count": 414,
   "metadata": {},
   "outputs": [
    {
     "data": {
      "text/plain": [
       "array([[[ 25,  25,  75,  25,  75],\n",
       "        [ 25,  75,  25,  25,  25],\n",
       "        [ 75,  25, 100,  75,  75]],\n",
       "\n",
       "       [[ 75,  75,  25, 100,  75],\n",
       "        [ 75,  25,  75,  75,  25],\n",
       "        [ 75,  25,  25,  75,   0]]])"
      ]
     },
     "execution_count": 414,
     "metadata": {},
     "output_type": "execute_result"
    }
   ],
   "source": [
    "f"
   ]
  },
  {
   "cell_type": "markdown",
   "metadata": {},
   "source": [
    "#### 17. Print *d* and *f*. Do you have your expected *f*?\n",
    "For instance, if your *d* is:\n",
    "```python\n",
    "[[[1.85836099, 1.67064465, 1.62576044, 1.40243961, 1.88454931],\n",
    "[1.75354326, 1.69403643, 1.36729252, 1.61415071, 1.12104981],\n",
    "[1.72201435, 1.1862918 , 1.87078449, 1.7726778 , 1.88180042]],\n",
    "[[1.44747908, 1.31673383, 1.02000951, 1.52218947, 1.97066381],\n",
    "[1.79129243, 1.74983003, 1.96028037, 1.85166831, 1.65450881],\n",
    "[1.18068344, 1.9587381 , 1.00656599, 1.93402165, 1.73514584]]]\n",
    "```\n",
    "Your *f* should be:\n",
    "```python\n",
    "[[[ 75.,  75.,  75.,  25.,  75.],\n",
    "[ 75.,  75.,  25.,  25.,  25.],\n",
    "[ 75.,  25.,  75.,  75.,  75.]],\n",
    "[[ 25.,  25.,  25.,  25., 100.],\n",
    "[ 75.,  75.,  75.,  75.,  75.],\n",
    "[ 25.,  75.,   0.,  75.,  75.]]]\n",
    "```"
   ]
  },
  {
   "cell_type": "code",
   "execution_count": 415,
   "metadata": {},
   "outputs": [
    {
     "name": "stdout",
     "output_type": "stream",
     "text": [
      "[[[22 18 39 24 50]\n",
      "  [28 40 20 28 29]\n",
      "  [38 32 57 43 41]]\n",
      "\n",
      " [[37 40 17 57 38]\n",
      "  [39 18 49 43 23]\n",
      "  [41 17 23 50 12]]]\n",
      "---------------------------------\n",
      "[[[ 25  25  75  25  75]\n",
      "  [ 25  75  25  25  25]\n",
      "  [ 75  25 100  75  75]]\n",
      "\n",
      " [[ 75  75  25 100  75]\n",
      "  [ 75  25  75  75  25]\n",
      "  [ 75  25  25  75   0]]]\n"
     ]
    }
   ],
   "source": [
    "# your code here\n",
    "print(d)\n",
    "print(\"---------------------------------\")\n",
    "print(f)\n"
   ]
  },
  {
   "cell_type": "markdown",
   "metadata": {},
   "source": [
    "#### 18. Bonus question: instead of using numbers (i.e. 0, 25, 50, 75, and 100), use string values  (\"A\", \"B\", \"C\", \"D\", and \"E\") to label the array elements. For the example above, the expected result is:\n",
    "\n",
    "```python\n",
    "[[[ 'D',  'D',  'D',  'B',  'D'],\n",
    "[ 'D',  'D',  'B',  'B',  'B'],\n",
    "[ 'D',  'B',  'D',  'D',  'D']],\n",
    "[[ 'B',  'B',  'B',  'B',  'E'],\n",
    "[ 'D',  'D',  'D',  'D',  'D'],\n",
    "[ 'B',  'D',   'A',  'D', 'D']]]\n",
    "```\n",
    "**Note**: you don't have to use Numpy in this question."
   ]
  },
  {
   "cell_type": "code",
   "execution_count": 418,
   "metadata": {},
   "outputs": [
    {
     "data": {
      "text/plain": [
       "array([[['A', 'A', 'B', 'A', 'B'],\n",
       "        ['A', 'B', 'A', 'A', 'A'],\n",
       "        ['B', 'A', 'E', 'B', 'B']],\n",
       "\n",
       "       [['B', 'B', 'A', 'E', 'B'],\n",
       "        ['B', 'A', 'B', 'B', 'A'],\n",
       "        ['B', 'A', 'A', 'B', 'D']]], dtype='<U1')"
      ]
     },
     "execution_count": 418,
     "metadata": {},
     "output_type": "execute_result"
    }
   ],
   "source": [
    "# your code here\n",
    "for x in range(d.shape[0]):\n",
    "    for y in range(d.shape[1]):\n",
    "        for z in range(d.shape[2]):\n",
    "            if d[x, y, z] > d_min and d[x, y, z] < d_mean:\n",
    "                f[x, y, z] = \"A\"\n",
    "            if d[x, y, z] > d_mean and d[x, y, z] < d_max:\n",
    "                f[x, y, z] = \"B\" \n",
    "            if d[x, y, z] == d_mean:\n",
    "                f[x, y, z] = \"C\"\n",
    "            if d[x, y, z] == d_min:\n",
    "                f[x, y, z] = \"D\"\n",
    "            if d[x, y, z] == d_max:\n",
    "                f[x, y, z] = \"E\"\n",
    "f"
   ]
  },
  {
   "cell_type": "code",
   "execution_count": null,
   "metadata": {},
   "outputs": [],
   "source": []
  }
 ],
 "metadata": {
  "kernelspec": {
   "display_name": "Python [conda env:m1_ih]",
   "language": "python",
   "name": "conda-env-m1_ih-py"
  },
  "language_info": {
   "codemirror_mode": {
    "name": "ipython",
    "version": 3
   },
   "file_extension": ".py",
   "mimetype": "text/x-python",
   "name": "python",
   "nbconvert_exporter": "python",
   "pygments_lexer": "ipython3",
   "version": "3.9.12"
  }
 },
 "nbformat": 4,
 "nbformat_minor": 2
}
